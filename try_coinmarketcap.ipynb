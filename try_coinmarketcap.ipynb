{
 "cells": [
  {
   "cell_type": "code",
   "execution_count": 1,
   "id": "23ebab6a",
   "metadata": {},
   "outputs": [
    {
     "name": "stdout",
     "output_type": "stream",
     "text": [
      "{'BTC': {'urls': {'website': ['yndoy936gbf', 'wo4ztnocp9', '1yb8e4sed7z', 'ji96e4yhxb9', 'hjcpnw0gwkj', 'eksee5svef8', 'cnlkkwfr11t', 'c4biv2lblgt', 'he1dsepb33n', 'o3gri5x1hz'], 'technical_doc': ['9v32ct7xesq', '31awkd29asd', '75h5fpyafic', 'v53zjz7nxd', '38hm2im3cc9', 'uzji8ij226', 'ylrh7r85k0d', 'rmlm0s318d', '0aqbbnf3j01m', 'xog2arpvlw'], 'twitter': [], 'reddit': ['cuaevt8vpvm', 'ogznzmji00j', 'ypk2ilaknu', 'q65ac8no7pf', 'l3bzpi5qd5g', '08k7r13es96h', 'l7lzzsbio1q', 'w9w4266d7y', 'rfjk22tdn6b', 'lu1sc7v0jy'], 'message_board': ['e0hc9flp29k', 'agrmvdf3yu', 'v0dy8w4iygi', '1b8eyu70ep', 'f04f9g65l2l', 'd9wa7bi55tf', '4qpvrevouqn', 'da59jnyirao', '5ee10jei4dq', '5js0an86804'], 'announcement': [], 'chat': [], 'explorer': ['xfrxs170fbr', 'zv47pcxrp1', '199wlm61onh', 'uwi8f0a1b6', '3tqqp5q401u', 'iey7ayosu57', 'tlp60rrlou9', '319sdp1szvw', 'ylwgeordc8d', 'n1e675c1r6l'], 'source_code': ['y4hu22eboe', 't2xf8zps0u', '7fuqqiespxc', 's3p1vff0fni', 'znlzauqyk2e', '7r32r9y2in3', 'woy0efexi6h', '412yto5cmx8', '5ovb8ibb6i6', '1uobi8u1931']}, 'logo': '7cjki5iri4e', 'id': 4231, 'name': 'c319wx603pi', 'symbol': 'BTC', 'slug': 's2odrwn7ubq', 'description': 'jjjndmkujip', 'date_added': '2023-02-21T16:09:16.841Z', 'date_launched': '2023-02-21T16:09:16.841Z', 'tags': ['ub7xl7145f', 'bhzlck8onnd', 'nigq4l8mxb', '9271dlbqktp', 'aaw63a78wa5', 'qkg37h2mw9l', 'o6t9d0xep1', '7wnyxp48sja', 'fn4mjbzpejb', 'd5w0i7ebt2'], 'platform': None, 'category': 'el7vldhvdkl'}}\n",
      "7cjki5iri4e\n",
      "1\n",
      "0.5234949588775635\n"
     ]
    }
   ],
   "source": [
    "from coinmarketcapapi import CoinMarketCapAPI\n",
    "\n",
    "cmc = CoinMarketCapAPI()\n",
    "  \n",
    "rep = cmc.cryptocurrency_info(symbol='BTC') # See methods below\n",
    "\n",
    "print(rep.data)                 # Whole repsonse payload\n",
    "print(rep.data[\"BTC\"][\"logo\"])  # Some data in response\n",
    "print(rep.credit_count)         # API credits\n",
    "print(rep.total_elapsed)        # Request time in ms\n",
    "# ..."
   ]
  }
 ],
 "metadata": {
  "kernelspec": {
   "display_name": "Python 3 (ipykernel)",
   "language": "python",
   "name": "python3"
  },
  "language_info": {
   "codemirror_mode": {
    "name": "ipython",
    "version": 3
   },
   "file_extension": ".py",
   "mimetype": "text/x-python",
   "name": "python",
   "nbconvert_exporter": "python",
   "pygments_lexer": "ipython3",
   "version": "3.11.1"
  }
 },
 "nbformat": 4,
 "nbformat_minor": 5
}
